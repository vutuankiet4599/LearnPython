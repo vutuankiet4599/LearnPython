{
  "cells": [
    {
      "cell_type": "code",
      "execution_count": null,
      "metadata": {
        "id": "1rRo8oNqZ-Rj"
      },
      "outputs": [],
      "source": [
        "# Import libraries. You may or may not use all of these.\n",
        "# !pip install -q git+https://github.com/tensorflow/docs\n",
        "import matplotlib.pyplot as plt\n",
        "import numpy as np\n",
        "import pandas as pd\n",
        "\n",
        "try:\n",
        "  # %tensorflow_version only exists in Colab.\n",
        "  # %tensorflow_version 2.x\n",
        "except Exception:\n",
        "  pass\n",
        "import tensorflow as tf\n",
        "\n",
        "from tensorflow import keras\n",
        "from tensorflow.keras import layers\n",
        "\n",
        "import tensorflow_docs as tfdocs\n",
        "import tensorflow_docs.plots\n",
        "import tensorflow_docs.modeling"
      ]
    },
    {
      "cell_type": "code",
      "execution_count": null,
      "metadata": {
        "id": "CiX2FI4gZtTt"
      },
      "outputs": [],
      "source": [
        "# Import data\n",
        "# !wget https://cdn.freecodecamp.org/project-data/health-costs/insurance.csv\n",
        "dataset = pd.read_csv('insurance.csv')\n",
        "dataset.tail()"
      ]
    },
    {
      "cell_type": "code",
      "execution_count": null,
      "metadata": {
        "id": "LcopvQh3X-kX"
      },
      "outputs": [],
      "source": [
        "X = dataset.drop('expenses', axis=1)\n",
        "y = dataset['expenses']"
      ]
    },
    {
      "cell_type": "code",
      "execution_count": null,
      "metadata": {
        "id": "NOHBnsSDQ7lM"
      },
      "outputs": [],
      "source": [
        "from sklearn.model_selection import train_test_split\n",
        "from sklearn.preprocessing import OrdinalEncoder\n",
        "\n",
        "X_train, X_test, y_train, y_test = train_test_split(X, y, test_size=0.2, random_state=42)\n",
        "\n",
        "sex_encoder = OrdinalEncoder(categories=[['female', 'male']])\n",
        "smoker_encoder = OrdinalEncoder(categories=[['no', 'yes']])\n",
        "region_encoder = OrdinalEncoder(categories=[['northeast', 'northwest', 'southeast', 'southwest']])\n",
        "\n",
        "X_train['sex'] = sex_encoder.fit_transform(X_train[['sex']])\n",
        "X_train['smoker'] = smoker_encoder.fit_transform(X_train[['smoker']])\n",
        "X_train['region'] = region_encoder.fit_transform(X_train[['region']])\n",
        "\n",
        "X_test['sex'] = sex_encoder.transform(X_test[['sex']])\n",
        "X_test['smoker'] = smoker_encoder.transform(X_test[['smoker']])\n",
        "X_test['region'] = region_encoder.transform(X_test[['region']])"
      ]
    },
    {
      "cell_type": "code",
      "execution_count": null,
      "metadata": {
        "id": "1HX4f-j8ZmLw"
      },
      "outputs": [],
      "source": [
        "import seaborn as sns\n",
        "train_dataframe = pd.concat([X_train, y_train], axis=1)\n",
        "test_dataframe = pd.concat([X_test, y_test], axis=1)\n",
        "dataframe = pd.concat([train_dataframe, test_dataframe], axis=0)\n",
        "sns.heatmap(dataframe.corr(), annot=True)"
      ]
    },
    {
      "cell_type": "code",
      "execution_count": null,
      "metadata": {
        "id": "l40qxq9qZ2Jv"
      },
      "outputs": [],
      "source": [
        "train_dataset = X_train\n",
        "train_labels = y_train\n",
        "test_dataset = X_test\n",
        "test_labels = y_test"
      ]
    },
    {
      "cell_type": "code",
      "execution_count": null,
      "metadata": {
        "id": "w0O0LUmgZ4rc"
      },
      "outputs": [],
      "source": [
        "train_dataset.drop(['region', 'sex', 'children'], axis=1, inplace=True)\n",
        "test_dataset.drop(['region', 'sex', 'children'], axis=1, inplace=True)"
      ]
    },
    {
      "cell_type": "code",
      "execution_count": null,
      "metadata": {
        "id": "TyFQ1iD0aQK3"
      },
      "outputs": [],
      "source": [
        "model = keras.Sequential([\n",
        "    layers.Input(shape=(train_dataset.shape[1],)),\n",
        "    layers.BatchNormalization(),\n",
        "    layers.Dense(64, activation='relu'),\n",
        "    layers.Dense(64, activation='relu'),\n",
        "    layers.Dense(1)\n",
        "])\n",
        "\n",
        "model.compile(\n",
        "    optimizer=keras.optimizers.Adam(learning_rate=0.001),\n",
        "    loss='mae',\n",
        "    metrics=['mae', 'mse']\n",
        ")\n",
        "\n",
        "model.summary()"
      ]
    },
    {
      "cell_type": "code",
      "execution_count": null,
      "metadata": {
        "id": "9zb0ThzmkT4P"
      },
      "outputs": [],
      "source": [
        "history = model.fit(train_dataset, train_labels, epochs=100, validation_split=0.2, verbose=0)"
      ]
    },
    {
      "cell_type": "code",
      "execution_count": null,
      "metadata": {
        "id": "Xe7RXH3N3CWU"
      },
      "outputs": [],
      "source": [
        "# RUN THIS CELL TO TEST YOUR MODEL. DO NOT MODIFY CONTENTS.\n",
        "# Test model by checking how well the model generalizes using the test set.\n",
        "loss, mae, mse = model.evaluate(test_dataset, test_labels, verbose=2)\n",
        "\n",
        "print(\"Testing set Mean Abs Error: {:5.2f} expenses\".format(mae))\n",
        "\n",
        "if mae < 3500:\n",
        "  print(\"You passed the challenge. Great job!\")\n",
        "else:\n",
        "  print(\"The Mean Abs Error must be less than 3500. Keep trying.\")\n",
        "\n",
        "# Plot predictions.\n",
        "test_predictions = model.predict(test_dataset).flatten()\n",
        "\n",
        "a = plt.axes(aspect='equal')\n",
        "plt.scatter(test_labels, test_predictions)\n",
        "plt.xlabel('True values (expenses)')\n",
        "plt.ylabel('Predictions (expenses)')\n",
        "lims = [0, 50000]\n",
        "plt.xlim(lims)\n",
        "plt.ylim(lims)\n",
        "_ = plt.plot(lims,lims)\n"
      ]
    }
  ],
  "metadata": {
    "colab": {
      "private_outputs": true,
      "provenance": [],
      "toc_visible": true
    },
    "kernelspec": {
      "display_name": "Python 3",
      "name": "python3"
    }
  },
  "nbformat": 4,
  "nbformat_minor": 0
}
